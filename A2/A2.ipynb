{
 "cells": [
  {
   "cell_type": "code",
   "execution_count": null,
   "id": "95e7184b",
   "metadata": {},
   "outputs": [
    {
     "name": "stdout",
     "output_type": "stream",
     "text": [
      "First 5 rows of the dataset:\n",
      "   size  bedroom   price\n",
      "0  2104        3  399900\n",
      "1  1600        3  329900\n",
      "2  2400        3  369000\n",
      "3  1416        2  232000\n",
      "4  3000        4  539900\n",
      "\n",
      "Missing values in each column:\n",
      "size       0\n",
      "bedroom    0\n",
      "price      0\n",
      "dtype: int64\n"
     ]
    }
   ],
   "source": [
    "import pandas as pd\n",
    "import numpy as np\n",
    "from sklearn.linear_model import LinearRegression\n",
    "from sklearn.metrics import mean_absolute_error, mean_squared_error\n",
    "from sklearn.linear_model import SGDRegressor\n",
    "from sklearn.preprocessing import StandardScaler\n",
    "# Load the dataset\n",
    "df = pd.read_csv('house_price.csv')\n",
    "\n",
    "# View the first few rows\n",
    "print(\"First 5 rows of the dataset:\")\n",
    "print(df.head())\n",
    "\n",
    "# Check for missing values\n",
    "print(\"\\nMissing values in each column:\")\n",
    "print(df.isnull().sum())\n"
   ]
  },
  {
   "cell_type": "code",
   "execution_count": 10,
   "id": "9bafc5bb",
   "metadata": {},
   "outputs": [
    {
     "name": "stdout",
     "output_type": "stream",
     "text": [
      "==== Linear Regression ====\n",
      "Coefficients: [  139.21067402 -8738.01911233]\n",
      "Intercept: 89597.90954279754\n"
     ]
    },
    {
     "ename": "NameError",
     "evalue": "name 'mae_lr' is not defined",
     "output_type": "error",
     "traceback": [
      "\u001b[31m---------------------------------------------------------------------------\u001b[39m",
      "\u001b[31mNameError\u001b[39m                                 Traceback (most recent call last)",
      "\u001b[36mCell\u001b[39m\u001b[36m \u001b[39m\u001b[32mIn[10]\u001b[39m\u001b[32m, line 23\u001b[39m\n\u001b[32m     21\u001b[39m \u001b[38;5;28mprint\u001b[39m(\u001b[33m\"\u001b[39m\u001b[33mCoefficients:\u001b[39m\u001b[33m\"\u001b[39m, lr_model.coef_)\n\u001b[32m     22\u001b[39m \u001b[38;5;28mprint\u001b[39m(\u001b[33m\"\u001b[39m\u001b[33mIntercept:\u001b[39m\u001b[33m\"\u001b[39m, lr_model.intercept_)\n\u001b[32m---> \u001b[39m\u001b[32m23\u001b[39m \u001b[38;5;28mprint\u001b[39m(\u001b[33mf\u001b[39m\u001b[33m\"\u001b[39m\u001b[33mMAE: \u001b[39m\u001b[38;5;132;01m{\u001b[39;00m\u001b[43mmae_lr\u001b[49m\u001b[38;5;132;01m:\u001b[39;00m\u001b[33m.2f\u001b[39m\u001b[38;5;132;01m}\u001b[39;00m\u001b[33m\"\u001b[39m)\n\u001b[32m     24\u001b[39m \u001b[38;5;28mprint\u001b[39m(\u001b[33mf\u001b[39m\u001b[33m\"\u001b[39m\u001b[33mMSE: \u001b[39m\u001b[38;5;132;01m{\u001b[39;00mmse_lr\u001b[38;5;132;01m:\u001b[39;00m\u001b[33m.2f\u001b[39m\u001b[38;5;132;01m}\u001b[39;00m\u001b[33m\"\u001b[39m)\n\u001b[32m     25\u001b[39m \u001b[38;5;28mprint\u001b[39m(\u001b[33mf\u001b[39m\u001b[33m\"\u001b[39m\u001b[33mRMSE: \u001b[39m\u001b[38;5;132;01m{\u001b[39;00mrmse_lr\u001b[38;5;132;01m:\u001b[39;00m\u001b[33m.2f\u001b[39m\u001b[38;5;132;01m}\u001b[39;00m\u001b[33m\"\u001b[39m)\n",
      "\u001b[31mNameError\u001b[39m: name 'mae_lr' is not defined"
     ]
    }
   ],
   "source": [
    "# ****** Linear Regression ******\n",
    "# Prepare the data\n",
    "X = df[['size', 'bedroom']]   # Features\n",
    "y = df['price']               # Target\n",
    "\n",
    "# Train the model\n",
    "lr_model = LinearRegression()\n",
    "lr_model.fit(X, y)\n",
    "\n",
    "# Predict using the model\n",
    "y_pred = lr_model.predict(X)\n",
    "\n",
    "# Evaluate the model\n",
    "mae = mean_absolute_error(y, y_pred)\n",
    "mse = mean_squared_error(y, y_pred)\n",
    "rmse = np.sqrt(mse)\n",
    "mape = np.mean(np.abs((y - y_pred) / y)) * 100\n",
    "\n",
    "# Output results\n",
    "print(\"==== Linear Regression ====\")\n",
    "print(\"Coefficients:\", lr_model.coef_)\n",
    "print(\"Intercept:\", lr_model.intercept_)\n",
    "print(f\"MAE: {mae_lr:.2f}\")\n",
    "print(f\"MSE: {mse_lr:.2f}\")\n",
    "print(f\"RMSE: {rmse_lr:.2f}\")\n",
    "print(f\"MAPE: {mape_lr:.2f}%\")\n",
    "\n",
    "# ******  SDG Regressor  *****\n",
    "# Standardize features (important for SGD)\n",
    "scaler = StandardScaler()\n",
    "X_scaled = scaler.fit_transform(X)\n",
    "\n",
    "# Train the SGDRegressor\n",
    "sgd_model = SGDRegressor(max_iter=1000, tol=1e-3, random_state=42)\n",
    "sgd_model.fit(X_scaled, y)\n",
    "\n",
    "# Predict\n",
    "y_pred_sgd = sgd_model.predict(X_scaled)\n",
    "\n",
    "# Evaluate\n",
    "mae_sgd = mean_absolute_error(y, y_pred_sgd)\n",
    "mse_sgd = mean_squared_error(y, y_pred_sgd)\n",
    "rmse_sgd = np.sqrt(mse_sgd)\n",
    "mape_sgd = np.mean(np.abs((y - y_pred_sgd) / y)) * 100\n",
    "\n",
    "# Output results\n",
    "print(\"\\n[SGDRegressor]\")\n",
    "print(\"Coefficients:\", sgd_model.coef_)\n",
    "print(\"Intercept:\", sgd_model.intercept_)\n",
    "print(f\"MAE: {mae_sgd:.2f}\")\n",
    "print(f\"MSE: {mse_sgd:.2f}\")\n",
    "print(f\"RMSE: {rmse_sgd:.2f}\")\n",
    "print(f\"MAPE: {mape_sgd:.2f}%\")\n"
   ]
  },
  {
   "cell_type": "code",
   "execution_count": 8,
   "id": "10d6ae91",
   "metadata": {},
   "outputs": [
    {
     "name": "stdout",
     "output_type": "stream",
     "text": [
      "\n",
      "[SGDRegressor]\n",
      "Coefficients: [108873.92893799  -5981.12043584]\n",
      "Intercept: [340375.84521395]\n",
      "MAE: 51563.18\n",
      "MSE: 4086863630.42\n",
      "RMSE: 63928.58\n",
      "MAPE: 15.62%\n"
     ]
    }
   ],
   "source": [
    "# Standardize features (important for SGD)\n",
    "scaler = StandardScaler()\n",
    "X_scaled = scaler.fit_transform(X)\n",
    "\n",
    "# Train the SGDRegressor\n",
    "sgd_model = SGDRegressor(max_iter=1000, tol=1e-3, random_state=42)\n",
    "sgd_model.fit(X_scaled, y)\n",
    "\n",
    "# Predict\n",
    "y_pred_sgd = sgd_model.predict(X_scaled)\n",
    "\n",
    "# Evaluate\n",
    "mae_sgd = mean_absolute_error(y, y_pred_sgd)\n",
    "mse_sgd = mean_squared_error(y, y_pred_sgd)\n",
    "rmse_sgd = np.sqrt(mse_sgd)\n",
    "mape_sgd = np.mean(np.abs((y - y_pred_sgd) / y)) * 100\n",
    "\n",
    "# Output results\n",
    "print(\"\\n[SGDRegressor]\")\n",
    "print(\"Coefficients:\", sgd_model.coef_)\n",
    "print(\"Intercept:\", sgd_model.intercept_)\n",
    "print(f\"MAE: {mae_sgd:.2f}\")\n",
    "print(f\"MSE: {mse_sgd:.2f}\")\n",
    "print(f\"RMSE: {rmse_sgd:.2f}\")\n",
    "print(f\"MAPE: {mape_sgd:.2f}%\")\n"
   ]
  }
 ],
 "metadata": {
  "kernelspec": {
   "display_name": "python senecaOpenCV",
   "language": "python",
   "name": "opencv620nsb"
  },
  "language_info": {
   "codemirror_mode": {
    "name": "ipython",
    "version": 3
   },
   "file_extension": ".py",
   "mimetype": "text/x-python",
   "name": "python",
   "nbconvert_exporter": "python",
   "pygments_lexer": "ipython3",
   "version": "3.13.3"
  }
 },
 "nbformat": 4,
 "nbformat_minor": 5
}
