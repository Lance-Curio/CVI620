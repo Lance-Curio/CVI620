{
 "cells": [
  {
   "cell_type": "markdown",
   "id": "206fe0e3",
   "metadata": {},
   "source": [
    "Part I: A photo booth application\n",
    "\n",
    "Recreate the OpenCV logo using OpenCV drawing functions only (e.g., cv2.circle, cv2.line, etc.)."
   ]
  },
  {
   "cell_type": "code",
   "execution_count": null,
   "id": "1bef20d2",
   "metadata": {},
   "outputs": [],
   "source": [
    "import cv2\n",
    "import numpy as np\n",
    "import matplotlib.pyplot as plt\n",
    "\n",
    "# Create a white background\n",
    "image = np.ones((500, 500, 3), dtype=np.uint8) * 255\n",
    "\n",
    "# Draw the three ellipses (circles with part missing for the look)\n",
    "cv2.ellipse(image, (250, 170), (60, 60), 0, 130, 410, (0, 0, 255), -1)    # Red \n",
    "cv2.ellipse(image, (180, 280), (60, 60), 0, 0, 300, (0, 255, 0), -1)   # Green \n",
    "cv2.ellipse(image, (320, 280), (60, 60), 0, -60, 240, (255, 0, 0), -1)   # Blue\n",
    "\n",
    "# Add inner white circles \n",
    "cv2.circle(image, (250, 170), 25, (255, 255, 255), -1)\n",
    "cv2.circle(image, (180, 280), 25, (255, 255, 255), -1)\n",
    "cv2.circle(image, (320, 280), 25, (255, 255, 255), -1)\n",
    "\n",
    "# Add the text \"OpenCV\"\n",
    "cv2.putText(image, \"OpenCV\", (160, 380), cv2.FONT_HERSHEY_SIMPLEX, 1.5, (0, 0, 0), 4)\n",
    "\n",
    "# Convert to RGB for display\n",
    "image_rgb = cv2.cvtColor(image, cv2.COLOR_BGR2RGB)\n",
    "\n",
    "# Show using matplotlib\n",
    "plt.imshow(image_rgb)\n",
    "plt.axis(\"off\")\n",
    "plt.show()\n"
   ]
  },
  {
   "cell_type": "markdown",
   "id": "b648c1f7",
   "metadata": {},
   "source": [
    "Part II: Image Arithmetic\n",
    "\n",
    "Write a Python script to manually blend two images using NumPy operations."
   ]
  },
  {
   "cell_type": "code",
   "execution_count": null,
   "id": "13739e48",
   "metadata": {},
   "outputs": [],
   "source": [
    "import cv2\n",
    "import numpy as np\n",
    "import matplotlib.pyplot as plt\n",
    "\n",
    "# Load your two images\n",
    "img1 = cv2.imread(\"image1.jpg\")\n",
    "img2 = cv2.imread(\"image2.jpg\")\n",
    "\n",
    "# Resize them to the same size if needed\n",
    "height = min(img1.shape[0], img2.shape[0])\n",
    "width = min(img1.shape[1], img2.shape[1])\n",
    "img1 = cv2.resize(img1, (width, height))\n",
    "img2 = cv2.resize(img2, (width, height))\n",
    "\n",
    "# Alpha value between 0 and 1\n",
    "alpha = 0.5\n",
    "\n",
    "# Manual blend using numpy\n",
    "blend = (1 - alpha) * img1 + alpha * img2\n",
    "blend = blend.astype(np.uint8)\n",
    "\n",
    "# Save the result\n",
    "cv2.imwrite(\"manual_blend.jpg\", blend)\n",
    "\n",
    "# Display the result using matplotlib\n",
    "blend_rgb = cv2.cvtColor(blend, cv2.COLOR_BGR2RGB)\n",
    "plt.imshow(blend_rgb)\n",
    "plt.axis(\"off\")\n",
    "plt.show()\n"
   ]
  },
  {
   "cell_type": "markdown",
   "id": "d4de16c2",
   "metadata": {},
   "source": [
    "Part IV:\n",
    "\n",
    "Academic integrity Policy\n",
    "\n",
    "I, Lance Curio, declare that I have read and understood the Academic Integrity Policy."
   ]
  }
 ],
 "metadata": {
  "kernelspec": {
   "display_name": "python A1Kernel",
   "language": "python",
   "name": "assignment1"
  },
  "language_info": {
   "codemirror_mode": {
    "name": "ipython",
    "version": 3
   },
   "file_extension": ".py",
   "mimetype": "text/x-python",
   "name": "python",
   "nbconvert_exporter": "python",
   "pygments_lexer": "ipython3",
   "version": "3.13.3"
  }
 },
 "nbformat": 4,
 "nbformat_minor": 5
}
